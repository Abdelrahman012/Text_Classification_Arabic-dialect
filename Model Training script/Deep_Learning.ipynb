{
 "cells": [
  {
   "cell_type": "markdown",
   "id": "acc463e7",
   "metadata": {
    "papermill": {
     "duration": 0.036594,
     "end_time": "2022-03-09T17:40:02.005616",
     "exception": false,
     "start_time": "2022-03-09T17:40:01.969022",
     "status": "completed"
    },
    "tags": []
   },
   "source": [
    " ### Importing Libraries"
   ]
  },
  {
   "cell_type": "code",
   "execution_count": 1,
   "id": "dcb117cc",
   "metadata": {
    "execution": {
     "iopub.execute_input": "2022-03-09T17:40:02.089195Z",
     "iopub.status.busy": "2022-03-09T17:40:02.088323Z",
     "iopub.status.idle": "2022-03-09T17:40:07.943860Z",
     "shell.execute_reply": "2022-03-09T17:40:07.944344Z",
     "shell.execute_reply.started": "2022-03-09T16:42:51.353307Z"
    },
    "papermill": {
     "duration": 5.904853,
     "end_time": "2022-03-09T17:40:07.944617",
     "exception": false,
     "start_time": "2022-03-09T17:40:02.039764",
     "status": "completed"
    },
    "tags": []
   },
   "outputs": [],
   "source": [
    "import pandas as pd\n",
    "from keras.models import Sequential\n",
    "from keras.layers import Dense\n",
    "import matplotlib.pyplot as plt\n",
    "import tensorflow as tf\n",
    "import numpy as np\n",
    "from nltk.corpus import stopwords\n",
    "from keras.models import Sequential\n",
    "from keras.layers import Dense\n",
    "from sklearn.preprocessing import LabelEncoder\n",
    "from sklearn.model_selection import train_test_split\n",
    "from keras.models import Sequential\n",
    "from keras.layers import Dense , Activation , Dropout\n",
    "from sklearn.feature_extraction.text import TfidfVectorizer\n",
    "from keras.layers import Dense"
   ]
  },
  {
   "cell_type": "code",
   "execution_count": null,
   "id": "180173c9",
   "metadata": {},
   "outputs": [],
   "source": [
    "from nltk.corpus import stopwords\n",
    "stopwords_list = stopwords.words('arabic')"
   ]
  },
  {
   "cell_type": "code",
   "execution_count": 2,
   "id": "8464317f",
   "metadata": {
    "execution": {
     "iopub.execute_input": "2022-03-09T17:40:08.007291Z",
     "iopub.status.busy": "2022-03-09T17:40:08.006512Z",
     "iopub.status.idle": "2022-03-09T17:40:08.010757Z",
     "shell.execute_reply": "2022-03-09T17:40:08.010270Z",
     "shell.execute_reply.started": "2022-03-09T16:42:59.091199Z"
    },
    "papermill": {
     "duration": 0.036582,
     "end_time": "2022-03-09T17:40:08.010876",
     "exception": false,
     "start_time": "2022-03-09T17:40:07.974294",
     "status": "completed"
    },
    "tags": []
   },
   "outputs": [],
   "source": [
    "DATA_PATH=\"../input/my-task/preprocessed_df.csv\""
   ]
  },
  {
   "cell_type": "code",
   "execution_count": 3,
   "id": "5d701141",
   "metadata": {
    "execution": {
     "iopub.execute_input": "2022-03-09T17:40:08.075504Z",
     "iopub.status.busy": "2022-03-09T17:40:08.074923Z",
     "iopub.status.idle": "2022-03-09T17:40:10.136222Z",
     "shell.execute_reply": "2022-03-09T17:40:10.135342Z",
     "shell.execute_reply.started": "2022-03-09T16:42:59.102671Z"
    },
    "papermill": {
     "duration": 2.09584,
     "end_time": "2022-03-09T17:40:10.136382",
     "exception": false,
     "start_time": "2022-03-09T17:40:08.040542",
     "status": "completed"
    },
    "tags": []
   },
   "outputs": [],
   "source": [
    "#Reading Dataframe file\n",
    "df=pd.read_csv(DATA_PATH)"
   ]
  },
  {
   "cell_type": "code",
   "execution_count": 4,
   "id": "950f7e5d",
   "metadata": {
    "execution": {
     "iopub.execute_input": "2022-03-09T17:40:10.205893Z",
     "iopub.status.busy": "2022-03-09T17:40:10.205313Z",
     "iopub.status.idle": "2022-03-09T17:40:10.217056Z",
     "shell.execute_reply": "2022-03-09T17:40:10.217500Z",
     "shell.execute_reply.started": "2022-03-09T16:43:01.689104Z"
    },
    "papermill": {
     "duration": 0.050056,
     "end_time": "2022-03-09T17:40:10.217629",
     "exception": false,
     "start_time": "2022-03-09T17:40:10.167573",
     "status": "completed"
    },
    "tags": []
   },
   "outputs": [
    {
     "data": {
      "text/html": [
       "<div>\n",
       "<style scoped>\n",
       "    .dataframe tbody tr th:only-of-type {\n",
       "        vertical-align: middle;\n",
       "    }\n",
       "\n",
       "    .dataframe tbody tr th {\n",
       "        vertical-align: top;\n",
       "    }\n",
       "\n",
       "    .dataframe thead th {\n",
       "        text-align: right;\n",
       "    }\n",
       "</style>\n",
       "<table border=\"1\" class=\"dataframe\">\n",
       "  <thead>\n",
       "    <tr style=\"text-align: right;\">\n",
       "      <th></th>\n",
       "      <th>id</th>\n",
       "      <th>texts</th>\n",
       "      <th>dialect</th>\n",
       "    </tr>\n",
       "  </thead>\n",
       "  <tbody>\n",
       "    <tr>\n",
       "      <th>0</th>\n",
       "      <td>1175358310087892992</td>\n",
       "      <td>لكن بالنهاية ينتفض يغير</td>\n",
       "      <td>IQ</td>\n",
       "    </tr>\n",
       "    <tr>\n",
       "      <th>1</th>\n",
       "      <td>1175416117793349632</td>\n",
       "      <td>يعني هذا محسوب على البشر حيونه ووحشيه وتطلبون ...</td>\n",
       "      <td>IQ</td>\n",
       "    </tr>\n",
       "    <tr>\n",
       "      <th>2</th>\n",
       "      <td>1175450108898565888</td>\n",
       "      <td>مبين من كلامه خليجي</td>\n",
       "      <td>IQ</td>\n",
       "    </tr>\n",
       "    <tr>\n",
       "      <th>3</th>\n",
       "      <td>1175471073770573824</td>\n",
       "      <td>يسلملي مرورك وروحك الحلوه</td>\n",
       "      <td>IQ</td>\n",
       "    </tr>\n",
       "    <tr>\n",
       "      <th>4</th>\n",
       "      <td>1175496913145217024</td>\n",
       "      <td>وين هل الغيبه اخ محمد</td>\n",
       "      <td>IQ</td>\n",
       "    </tr>\n",
       "  </tbody>\n",
       "</table>\n",
       "</div>"
      ],
      "text/plain": [
       "                    id                                              texts  \\\n",
       "0  1175358310087892992                            لكن بالنهاية ينتفض يغير   \n",
       "1  1175416117793349632  يعني هذا محسوب على البشر حيونه ووحشيه وتطلبون ...   \n",
       "2  1175450108898565888                                مبين من كلامه خليجي   \n",
       "3  1175471073770573824                          يسلملي مرورك وروحك الحلوه   \n",
       "4  1175496913145217024                              وين هل الغيبه اخ محمد   \n",
       "\n",
       "  dialect  \n",
       "0      IQ  \n",
       "1      IQ  \n",
       "2      IQ  \n",
       "3      IQ  \n",
       "4      IQ  "
      ]
     },
     "execution_count": 4,
     "metadata": {},
     "output_type": "execute_result"
    }
   ],
   "source": [
    "df.head()"
   ]
  },
  {
   "cell_type": "code",
   "execution_count": 5,
   "id": "4fe10a19",
   "metadata": {
    "execution": {
     "iopub.execute_input": "2022-03-09T17:40:10.287476Z",
     "iopub.status.busy": "2022-03-09T17:40:10.286935Z",
     "iopub.status.idle": "2022-03-09T17:40:10.549700Z",
     "shell.execute_reply": "2022-03-09T17:40:10.549133Z",
     "shell.execute_reply.started": "2022-03-09T16:43:01.715695Z"
    },
    "papermill": {
     "duration": 0.301211,
     "end_time": "2022-03-09T17:40:10.549829",
     "exception": false,
     "start_time": "2022-03-09T17:40:10.248618",
     "status": "completed"
    },
    "tags": []
   },
   "outputs": [],
   "source": [
    "df.drop_duplicates(subset=[\"texts\",\"dialect\"],inplace=True)"
   ]
  },
  {
   "cell_type": "code",
   "execution_count": 6,
   "id": "7c29784d",
   "metadata": {
    "execution": {
     "iopub.execute_input": "2022-03-09T17:40:10.704877Z",
     "iopub.status.busy": "2022-03-09T17:40:10.615694Z",
     "iopub.status.idle": "2022-03-09T17:40:10.743131Z",
     "shell.execute_reply": "2022-03-09T17:40:10.742259Z",
     "shell.execute_reply.started": "2022-03-09T16:43:02.102337Z"
    },
    "papermill": {
     "duration": 0.162363,
     "end_time": "2022-03-09T17:40:10.743299",
     "exception": false,
     "start_time": "2022-03-09T17:40:10.580936",
     "status": "completed"
    },
    "tags": []
   },
   "outputs": [],
   "source": [
    "df=df.dropna()"
   ]
  },
  {
   "cell_type": "code",
   "execution_count": 7,
   "id": "b440b940",
   "metadata": {
    "execution": {
     "iopub.execute_input": "2022-03-09T17:40:10.906886Z",
     "iopub.status.busy": "2022-03-09T17:40:10.905967Z",
     "iopub.status.idle": "2022-03-09T17:40:10.921494Z",
     "shell.execute_reply": "2022-03-09T17:40:10.922127Z",
     "shell.execute_reply.started": "2022-03-09T16:43:02.250025Z"
    },
    "papermill": {
     "duration": 0.14646,
     "end_time": "2022-03-09T17:40:10.922336",
     "exception": false,
     "start_time": "2022-03-09T17:40:10.775876",
     "status": "completed"
    },
    "tags": []
   },
   "outputs": [
    {
     "name": "stdout",
     "output_type": "stream",
     "text": [
      "<class 'pandas.core.frame.DataFrame'>\n",
      "Int64Index: 458191 entries, 0 to 458196\n",
      "Data columns (total 3 columns):\n",
      " #   Column   Non-Null Count   Dtype \n",
      "---  ------   --------------   ----- \n",
      " 0   id       458191 non-null  int64 \n",
      " 1   texts    458191 non-null  object\n",
      " 2   dialect  458191 non-null  object\n",
      "dtypes: int64(1), object(2)\n",
      "memory usage: 14.0+ MB\n"
     ]
    }
   ],
   "source": [
    "df.info()"
   ]
  },
  {
   "cell_type": "markdown",
   "id": "5e1e3ecf",
   "metadata": {
    "papermill": {
     "duration": 0.032031,
     "end_time": "2022-03-09T17:40:10.989401",
     "exception": false,
     "start_time": "2022-03-09T17:40:10.957370",
     "status": "completed"
    },
    "tags": []
   },
   "source": [
    "### EDA"
   ]
  },
  {
   "cell_type": "code",
   "execution_count": 8,
   "id": "13555bc0",
   "metadata": {
    "execution": {
     "iopub.execute_input": "2022-03-09T17:40:11.107738Z",
     "iopub.status.busy": "2022-03-09T17:40:11.107104Z",
     "iopub.status.idle": "2022-03-09T17:40:11.405517Z",
     "shell.execute_reply": "2022-03-09T17:40:11.404653Z",
     "shell.execute_reply.started": "2022-03-09T16:43:02.368955Z"
    },
    "papermill": {
     "duration": 0.383171,
     "end_time": "2022-03-09T17:40:11.405740",
     "exception": false,
     "start_time": "2022-03-09T17:40:11.022569",
     "status": "completed"
    },
    "tags": []
   },
   "outputs": [
    {
     "data": {
      "text/plain": [
       "<AxesSubplot:ylabel='dialect'>"
      ]
     },
     "execution_count": 8,
     "metadata": {},
     "output_type": "execute_result"
    },
    {
     "data": {
      "image/png": "[encoded data removed]",
      "text/plain": [
       "<Figure size 432x288 with 1 Axes>"
      ]
     },
     "metadata": {},
     "output_type": "display_data"
    }
   ],
   "source": [
    "df.dialect.value_counts().plot(kind='pie', autopct='%1.0f%%')"
   ]
  },
  {
   "cell_type": "code",
   "execution_count": 9,
   "id": "2470e3ab",
   "metadata": {
    "execution": {
     "iopub.execute_input": "2022-03-09T17:40:11.500813Z",
     "iopub.status.busy": "2022-03-09T17:40:11.500111Z",
     "iopub.status.idle": "2022-03-09T17:40:11.887973Z",
     "shell.execute_reply": "2022-03-09T17:40:11.888421Z",
     "shell.execute_reply.started": "2022-03-09T16:43:02.806164Z"
    },
    "papermill": {
     "duration": 0.428199,
     "end_time": "2022-03-09T17:40:11.888584",
     "exception": false,
     "start_time": "2022-03-09T17:40:11.460385",
     "status": "completed"
    },
    "tags": []
   },
   "outputs": [
    {
     "data": {
      "text/plain": [
       "Text(0, 0.5, 'Count')"
      ]
     },
     "execution_count": 9,
     "metadata": {},
     "output_type": "execute_result"
    },
    {
     "data": {
      "image/png": "[encoded data removed]",
      "text/plain": [
       "<Figure size 576x396 with 1 Axes>"
      ]
     },
     "metadata": {},
     "output_type": "display_data"
    }
   ],
   "source": [
    "grouped_df = df.groupby(['dialect']).count().reset_index()\n",
    "plt.style.use(\"seaborn\")\n",
    "plt.bar(grouped_df[\"dialect\"],grouped_df[\"texts\"])\n",
    "plt.title(\"Count of Each class in our dataset\",fontdict={\"size\":20})\n",
    "plt.xlabel(\"Classes\",fontdict={\"size\":17})\n",
    "plt.ylabel(\"Count\",fontdict={\"size\":17})\n"
   ]
  },
  {
   "cell_type": "code",
   "execution_count": 10,
   "id": "f80aa42e",
   "metadata": {
    "execution": {
     "iopub.execute_input": "2022-03-09T17:40:11.970658Z",
     "iopub.status.busy": "2022-03-09T17:40:11.969930Z",
     "iopub.status.idle": "2022-03-09T17:40:11.974672Z",
     "shell.execute_reply": "2022-03-09T17:40:11.974171Z",
     "shell.execute_reply.started": "2022-03-09T16:43:03.288088Z"
    },
    "papermill": {
     "duration": 0.050187,
     "end_time": "2022-03-09T17:40:11.974810",
     "exception": false,
     "start_time": "2022-03-09T17:40:11.924623",
     "status": "completed"
    },
    "tags": []
   },
   "outputs": [
    {
     "data": {
      "text/html": [
       "<div>\n",
       "<style scoped>\n",
       "    .dataframe tbody tr th:only-of-type {\n",
       "        vertical-align: middle;\n",
       "    }\n",
       "\n",
       "    .dataframe tbody tr th {\n",
       "        vertical-align: top;\n",
       "    }\n",
       "\n",
       "    .dataframe thead th {\n",
       "        text-align: right;\n",
       "    }\n",
       "</style>\n",
       "<table border=\"1\" class=\"dataframe\">\n",
       "  <thead>\n",
       "    <tr style=\"text-align: right;\">\n",
       "      <th></th>\n",
       "      <th>dialect</th>\n",
       "      <th>count</th>\n",
       "    </tr>\n",
       "  </thead>\n",
       "  <tbody>\n",
       "    <tr>\n",
       "      <th>0</th>\n",
       "      <td>AE</td>\n",
       "      <td>26296</td>\n",
       "    </tr>\n",
       "    <tr>\n",
       "      <th>1</th>\n",
       "      <td>BH</td>\n",
       "      <td>26291</td>\n",
       "    </tr>\n",
       "    <tr>\n",
       "      <th>2</th>\n",
       "      <td>DZ</td>\n",
       "      <td>16183</td>\n",
       "    </tr>\n",
       "    <tr>\n",
       "      <th>3</th>\n",
       "      <td>EG</td>\n",
       "      <td>57635</td>\n",
       "    </tr>\n",
       "    <tr>\n",
       "      <th>4</th>\n",
       "      <td>IQ</td>\n",
       "      <td>15497</td>\n",
       "    </tr>\n",
       "    <tr>\n",
       "      <th>5</th>\n",
       "      <td>JO</td>\n",
       "      <td>27921</td>\n",
       "    </tr>\n",
       "    <tr>\n",
       "      <th>6</th>\n",
       "      <td>KW</td>\n",
       "      <td>42108</td>\n",
       "    </tr>\n",
       "    <tr>\n",
       "      <th>7</th>\n",
       "      <td>LB</td>\n",
       "      <td>27617</td>\n",
       "    </tr>\n",
       "    <tr>\n",
       "      <th>8</th>\n",
       "      <td>LY</td>\n",
       "      <td>36499</td>\n",
       "    </tr>\n",
       "    <tr>\n",
       "      <th>9</th>\n",
       "      <td>MA</td>\n",
       "      <td>11539</td>\n",
       "    </tr>\n",
       "    <tr>\n",
       "      <th>10</th>\n",
       "      <td>OM</td>\n",
       "      <td>19116</td>\n",
       "    </tr>\n",
       "    <tr>\n",
       "      <th>11</th>\n",
       "      <td>PL</td>\n",
       "      <td>43742</td>\n",
       "    </tr>\n",
       "    <tr>\n",
       "      <th>12</th>\n",
       "      <td>QA</td>\n",
       "      <td>31068</td>\n",
       "    </tr>\n",
       "    <tr>\n",
       "      <th>13</th>\n",
       "      <td>SA</td>\n",
       "      <td>26830</td>\n",
       "    </tr>\n",
       "    <tr>\n",
       "      <th>14</th>\n",
       "      <td>SD</td>\n",
       "      <td>14434</td>\n",
       "    </tr>\n",
       "    <tr>\n",
       "      <th>15</th>\n",
       "      <td>SY</td>\n",
       "      <td>16242</td>\n",
       "    </tr>\n",
       "    <tr>\n",
       "      <th>16</th>\n",
       "      <td>TN</td>\n",
       "      <td>9246</td>\n",
       "    </tr>\n",
       "    <tr>\n",
       "      <th>17</th>\n",
       "      <td>YE</td>\n",
       "      <td>9927</td>\n",
       "    </tr>\n",
       "  </tbody>\n",
       "</table>\n",
       "</div>"
      ],
      "text/plain": [
       "   dialect  count\n",
       "0       AE  26296\n",
       "1       BH  26291\n",
       "2       DZ  16183\n",
       "3       EG  57635\n",
       "4       IQ  15497\n",
       "5       JO  27921\n",
       "6       KW  42108\n",
       "7       LB  27617\n",
       "8       LY  36499\n",
       "9       MA  11539\n",
       "10      OM  19116\n",
       "11      PL  43742\n",
       "12      QA  31068\n",
       "13      SA  26830\n",
       "14      SD  14434\n",
       "15      SY  16242\n",
       "16      TN   9246\n",
       "17      YE   9927"
      ]
     },
     "execution_count": 10,
     "metadata": {},
     "output_type": "execute_result"
    }
   ],
   "source": [
    "grouped_df=grouped_df.drop(columns=[\"id\"]).rename(columns={\"texts\":\"count\"})\n",
    "grouped_df"
   ]
  },
  {
   "cell_type": "code",
   "execution_count": 11,
   "id": "5316ec20",
   "metadata": {
    "execution": {
     "iopub.execute_input": "2022-03-09T17:40:12.102516Z",
     "iopub.status.busy": "2022-03-09T17:40:12.101765Z",
     "iopub.status.idle": "2022-03-09T17:40:12.104653Z",
     "shell.execute_reply": "2022-03-09T17:40:12.105081Z",
     "shell.execute_reply.started": "2022-03-09T16:43:03.306120Z"
    },
    "papermill": {
     "duration": 0.094686,
     "end_time": "2022-03-09T17:40:12.105217",
     "exception": false,
     "start_time": "2022-03-09T17:40:12.010531",
     "status": "completed"
    },
    "tags": []
   },
   "outputs": [
    {
     "data": {
      "text/plain": [
       "['SA',\n",
       " 'LY',\n",
       " 'SY',\n",
       " 'OM',\n",
       " 'PL',\n",
       " 'QA',\n",
       " 'EG',\n",
       " 'SD',\n",
       " 'BH',\n",
       " 'DZ',\n",
       " 'LB',\n",
       " 'AE',\n",
       " 'JO',\n",
       " 'MA',\n",
       " 'IQ',\n",
       " 'KW',\n",
       " 'TN',\n",
       " 'YE']"
      ]
     },
     "execution_count": 11,
     "metadata": {},
     "output_type": "execute_result"
    }
   ],
   "source": [
    "list(set(df[\"dialect\"]))"
   ]
  },
  {
   "cell_type": "code",
   "execution_count": 12,
   "id": "f4ea4aa6",
   "metadata": {
    "execution": {
     "iopub.execute_input": "2022-03-09T17:40:12.294544Z",
     "iopub.status.busy": "2022-03-09T17:40:12.293750Z",
     "iopub.status.idle": "2022-03-09T17:40:14.887161Z",
     "shell.execute_reply": "2022-03-09T17:40:14.888228Z",
     "shell.execute_reply.started": "2022-03-09T16:43:03.370600Z"
    },
    "papermill": {
     "duration": 2.746755,
     "end_time": "2022-03-09T17:40:14.888442",
     "exception": false,
     "start_time": "2022-03-09T17:40:12.141687",
     "status": "completed"
    },
    "tags": []
   },
   "outputs": [],
   "source": [
    "# # # ## balancing the data\n",
    "min_num_classes=9927\n",
    "classes=list(set(df[\"dialect\"]))\n",
    "i=0\n",
    "dff=pd.DataFrame({\"id\":[],\"texts\":[],\"dialect\":[]})\n",
    "for class_item in  classes:\n",
    "    if df[df[\"dialect\"]==class_item].shape[0]>min_num_classes:\n",
    "        class_item=df[df[\"dialect\"]==class_item].sample(n=min_num_classes).reset_index(drop=True)\n",
    "    else:\n",
    "        class_item=df[df[\"dialect\"]==class_item]\n",
    "\n",
    "    dff = pd.concat([dff,class_item])\n",
    "dff[\"id\"]=dff[\"id\"].astype(\"int\")\n",
    "df=dff.sample(frac=1)"
   ]
  },
  {
   "cell_type": "code",
   "execution_count": 13,
   "id": "b763cb84",
   "metadata": {
    "execution": {
     "iopub.execute_input": "2022-03-09T17:40:15.015821Z",
     "iopub.status.busy": "2022-03-09T17:40:15.015022Z",
     "iopub.status.idle": "2022-03-09T17:40:15.024455Z",
     "shell.execute_reply": "2022-03-09T17:40:15.025074Z",
     "shell.execute_reply.started": "2022-03-09T16:43:06.214420Z"
    },
    "papermill": {
     "duration": 0.093392,
     "end_time": "2022-03-09T17:40:15.025264",
     "exception": false,
     "start_time": "2022-03-09T17:40:14.931872",
     "status": "completed"
    },
    "tags": []
   },
   "outputs": [
    {
     "name": "stdout",
     "output_type": "stream",
     "text": [
      "<class 'pandas.core.frame.DataFrame'>\n",
      "Int64Index: 178005 entries, 9180 to 5590\n",
      "Data columns (total 3 columns):\n",
      " #   Column   Non-Null Count   Dtype \n",
      "---  ------   --------------   ----- \n",
      " 0   id       178005 non-null  int64 \n",
      " 1   texts    178005 non-null  object\n",
      " 2   dialect  178005 non-null  object\n",
      "dtypes: int64(1), object(2)\n",
      "memory usage: 5.4+ MB\n"
     ]
    }
   ],
   "source": [
    "df.info()"
   ]
  },
  {
   "cell_type": "code",
   "execution_count": 14,
   "id": "e3e0a259",
   "metadata": {
    "execution": {
     "iopub.execute_input": "2022-03-09T17:40:15.103293Z",
     "iopub.status.busy": "2022-03-09T17:40:15.102499Z",
     "iopub.status.idle": "2022-03-09T17:40:15.425532Z",
     "shell.execute_reply": "2022-03-09T17:40:15.425957Z",
     "shell.execute_reply.started": "2022-03-09T16:43:06.284618Z"
    },
    "papermill": {
     "duration": 0.364075,
     "end_time": "2022-03-09T17:40:15.426104",
     "exception": false,
     "start_time": "2022-03-09T17:40:15.062029",
     "status": "completed"
    },
    "tags": []
   },
   "outputs": [
    {
     "data": {
      "text/plain": [
       "Text(0, 0.5, 'Count')"
      ]
     },
     "execution_count": 14,
     "metadata": {},
     "output_type": "execute_result"
    },
    {
     "data": {
      "image/png": "[encoded data removed]",
      "text/plain": [
       "<Figure size 576x396 with 1 Axes>"
      ]
     },
     "metadata": {},
     "output_type": "display_data"
    }
   ],
   "source": [
    "grouped_df = df.groupby(['dialect']).count().reset_index()\n",
    "plt.style.use(\"seaborn\")\n",
    "plt.bar(grouped_df[\"dialect\"],grouped_df[\"texts\"])\n",
    "plt.title(\"Count of Each class in our dataset\",fontdict={\"size\":20})\n",
    "plt.xlabel(\"Classes\",fontdict={\"size\":17})\n",
    "plt.ylabel(\"Count\",fontdict={\"size\":17})"
   ]
  },
  {
   "cell_type": "code",
   "execution_count": 15,
   "id": "3e2f0744",
   "metadata": {
    "execution": {
     "iopub.execute_input": "2022-03-09T17:40:15.508828Z",
     "iopub.status.busy": "2022-03-09T17:40:15.507941Z",
     "iopub.status.idle": "2022-03-09T17:40:23.871493Z",
     "shell.execute_reply": "2022-03-09T17:40:23.871974Z",
     "shell.execute_reply.started": "2022-03-09T16:43:06.698831Z"
    },
    "papermill": {
     "duration": 8.407624,
     "end_time": "2022-03-09T17:40:23.872147",
     "exception": false,
     "start_time": "2022-03-09T17:40:15.464523",
     "status": "completed"
    },
    "tags": []
   },
   "outputs": [
    {
     "name": "stdout",
     "output_type": "stream",
     "text": [
      "the maximum text length is:280\n"
     ]
    }
   ],
   "source": [
    "length_lst=[]\n",
    "for i,row in df.iterrows():\n",
    "    try:\n",
    "        length_lst.append(len(row[\"texts\"]))\n",
    "    except:\n",
    "        continue\n",
    "print(f\"the maximum text length is:{max(length_lst)}\")"
   ]
  },
  {
   "cell_type": "code",
   "execution_count": 16,
   "id": "420d37b3",
   "metadata": {
    "execution": {
     "iopub.execute_input": "2022-03-09T17:40:23.956436Z",
     "iopub.status.busy": "2022-03-09T17:40:23.955693Z",
     "iopub.status.idle": "2022-03-09T17:40:28.563962Z",
     "shell.execute_reply": "2022-03-09T17:40:28.563182Z",
     "shell.execute_reply.started": "2022-03-09T16:43:20.092918Z"
    },
    "papermill": {
     "duration": 4.651966,
     "end_time": "2022-03-09T17:40:28.564097",
     "exception": false,
     "start_time": "2022-03-09T17:40:23.912131",
     "status": "completed"
    },
    "tags": []
   },
   "outputs": [
    {
     "name": "stderr",
     "output_type": "stream",
     "text": [
      "/opt/conda/lib/python3.7/site-packages/sklearn/feature_extraction/text.py:401: UserWarning: Your stop_words may be inconsistent with your preprocessing. Tokenizing the stop words generated tokens ['آمين', 'أب', 'أخ', 'أفعل', 'أفعله', 'ؤلاء', 'إل', 'إم', 'ات', 'اتان', 'ارتد', 'ان', 'انفك', 'برح', 'تان', 'تبد', 'تحو', 'تعل', 'حد', 'حم', 'حي', 'خب', 'ذار', 'سيما', 'صه', 'ظل', 'ظن', 'عد', 'قط', 'مر', 'مكان', 'مكانكن', 'نب', 'هات', 'هب', 'واها', 'وراء'] not in stop_words.\n",
      "  % sorted(inconsistent)\n"
     ]
    }
   ],
   "source": [
    "labels = df[\"dialect\"]\n",
    "vectorizer = TfidfVectorizer(max_features=7500, stop_words=stopwords.words('arabic'))\n",
    "processed_features = vectorizer.fit_transform(df[\"texts\"].astype(\"U\").tolist())"
   ]
  },
  {
   "cell_type": "code",
   "execution_count": 17,
   "id": "de8458e2",
   "metadata": {
    "execution": {
     "iopub.execute_input": "2022-03-09T17:40:28.646444Z",
     "iopub.status.busy": "2022-03-09T17:40:28.645665Z",
     "iopub.status.idle": "2022-03-09T17:40:28.671956Z",
     "shell.execute_reply": "2022-03-09T17:40:28.671487Z",
     "shell.execute_reply.started": "2022-03-09T16:43:25.620488Z"
    },
    "papermill": {
     "duration": 0.068918,
     "end_time": "2022-03-09T17:40:28.672076",
     "exception": false,
     "start_time": "2022-03-09T17:40:28.603158",
     "status": "completed"
    },
    "tags": []
   },
   "outputs": [],
   "source": [
    "X_train, X_test,y_train,y_test= train_test_split(processed_features, labels, test_size=0.2,shuffle=True)"
   ]
  },
  {
   "cell_type": "code",
   "execution_count": 18,
   "id": "bd30483c",
   "metadata": {
    "execution": {
     "iopub.execute_input": "2022-03-09T17:40:28.755034Z",
     "iopub.status.busy": "2022-03-09T17:40:28.754208Z",
     "iopub.status.idle": "2022-03-09T17:40:32.437937Z",
     "shell.execute_reply": "2022-03-09T17:40:32.437436Z",
     "shell.execute_reply.started": "2022-03-09T16:43:25.672940Z"
    },
    "papermill": {
     "duration": 3.727324,
     "end_time": "2022-03-09T17:40:32.438073",
     "exception": false,
     "start_time": "2022-03-09T17:40:28.710749",
     "status": "completed"
    },
    "tags": []
   },
   "outputs": [],
   "source": [
    "X_train=X_train.toarray()\n",
    "X_test=X_test.toarray()"
   ]
  },
  {
   "cell_type": "code",
   "execution_count": 19,
   "id": "f50b795c",
   "metadata": {
    "execution": {
     "iopub.execute_input": "2022-03-09T17:40:32.668122Z",
     "iopub.status.busy": "2022-03-09T17:40:32.547723Z",
     "iopub.status.idle": "2022-03-09T17:40:32.681575Z",
     "shell.execute_reply": "2022-03-09T17:40:32.681974Z",
     "shell.execute_reply.started": "2022-03-09T16:43:29.862172Z"
    },
    "papermill": {
     "duration": 0.205714,
     "end_time": "2022-03-09T17:40:32.682130",
     "exception": false,
     "start_time": "2022-03-09T17:40:32.476416",
     "status": "completed"
    },
    "tags": []
   },
   "outputs": [
    {
     "name": "stdout",
     "output_type": "stream",
     "text": [
      "18\n"
     ]
    }
   ],
   "source": [
    "encoder = LabelEncoder()\n",
    "encoder.fit(labels)\n",
    "labels=encoder.fit_transform(labels)\n",
    "\n",
    "num_classes = int((len(set(labels))))\n",
    "print((len(set(labels))))\n",
    "\n",
    "y_train = encoder.fit_transform(y_train)\n",
    "y_test = encoder.fit_transform(y_test)"
   ]
  },
  {
   "cell_type": "code",
   "execution_count": 20,
   "id": "9c8be867",
   "metadata": {
    "execution": {
     "iopub.execute_input": "2022-03-09T17:40:32.760345Z",
     "iopub.status.busy": "2022-03-09T17:40:32.759827Z",
     "iopub.status.idle": "2022-03-09T17:40:33.071091Z",
     "shell.execute_reply": "2022-03-09T17:40:33.070347Z",
     "shell.execute_reply.started": "2022-03-09T16:43:30.042441Z"
    },
    "papermill": {
     "duration": 0.352012,
     "end_time": "2022-03-09T17:40:33.071233",
     "exception": false,
     "start_time": "2022-03-09T17:40:32.719221",
     "status": "completed"
    },
    "tags": []
   },
   "outputs": [],
   "source": [
    "y_train= tf.keras.utils.to_categorical(y_train,num_classes)\n",
    "y_test = tf.keras.utils.to_categorical(y_test, num_classes)"
   ]
  },
  {
   "cell_type": "code",
   "execution_count": 21,
   "id": "ece45f94",
   "metadata": {
    "execution": {
     "iopub.execute_input": "2022-03-09T17:40:33.156187Z",
     "iopub.status.busy": "2022-03-09T17:40:33.155493Z",
     "iopub.status.idle": "2022-03-09T17:40:33.158296Z",
     "shell.execute_reply": "2022-03-09T17:40:33.158712Z",
     "shell.execute_reply.started": "2022-03-09T16:43:30.424405Z"
    },
    "papermill": {
     "duration": 0.04701,
     "end_time": "2022-03-09T17:40:33.158842",
     "exception": false,
     "start_time": "2022-03-09T17:40:33.111832",
     "status": "completed"
    },
    "tags": []
   },
   "outputs": [
    {
     "data": {
      "text/plain": [
       "(7500,)"
      ]
     },
     "execution_count": 21,
     "metadata": {},
     "output_type": "execute_result"
    }
   ],
   "source": [
    "X_train[0].shape"
   ]
  },
  {
   "cell_type": "code",
   "execution_count": 22,
   "id": "95759503",
   "metadata": {
    "execution": {
     "iopub.execute_input": "2022-03-09T17:40:33.238337Z",
     "iopub.status.busy": "2022-03-09T17:40:33.237650Z",
     "iopub.status.idle": "2022-03-09T17:40:33.240312Z",
     "shell.execute_reply": "2022-03-09T17:40:33.240708Z",
     "shell.execute_reply.started": "2022-03-09T16:43:30.433578Z"
    },
    "papermill": {
     "duration": 0.044695,
     "end_time": "2022-03-09T17:40:33.240830",
     "exception": false,
     "start_time": "2022-03-09T17:40:33.196135",
     "status": "completed"
    },
    "tags": []
   },
   "outputs": [
    {
     "data": {
      "text/plain": [
       "array([0., 0., 0., 0., 0., 0., 0., 1., 0., 0., 0., 0., 0., 0., 0., 0., 0.,\n",
       "       0.], dtype=float32)"
      ]
     },
     "execution_count": 22,
     "metadata": {},
     "output_type": "execute_result"
    }
   ],
   "source": [
    "y_train[1]"
   ]
  },
  {
   "cell_type": "code",
   "execution_count": 23,
   "id": "be8d37b1",
   "metadata": {
    "execution": {
     "iopub.execute_input": "2022-03-09T17:40:33.323600Z",
     "iopub.status.busy": "2022-03-09T17:40:33.322715Z",
     "iopub.status.idle": "2022-03-09T17:40:33.324661Z",
     "shell.execute_reply": "2022-03-09T17:40:33.325057Z",
     "shell.execute_reply.started": "2022-03-09T16:43:30.458619Z"
    },
    "papermill": {
     "duration": 0.046713,
     "end_time": "2022-03-09T17:40:33.325191",
     "exception": false,
     "start_time": "2022-03-09T17:40:33.278478",
     "status": "completed"
    },
    "tags": []
   },
   "outputs": [],
   "source": [
    "import keras.backend as K\n",
    "def f1_metric(y_true, y_pred):\n",
    "    true_positives = K.sum(K.round(K.clip(y_true * y_pred, 0, 1)))\n",
    "    possible_positives = K.sum(K.round(K.clip(y_true, 0, 1)))\n",
    "    predicted_positives = K.sum(K.round(K.clip(y_pred, 0, 1)))\n",
    "    precision = true_positives / (predicted_positives + K.epsilon())\n",
    "    recall = true_positives / (possible_positives + K.epsilon())\n",
    "    f1_val = 2*(precision*recall)/(precision+recall+K.epsilon())\n",
    "    return f1_val\n",
    "\n",
    "from keras.metrics import Precision , Recall , Accuracy , TruePositives , TrueNegatives , FalsePositives , FalseNegatives"
   ]
  },
  {
   "cell_type": "code",
   "execution_count": 24,
   "id": "cae7e05b",
   "metadata": {
    "execution": {
     "iopub.execute_input": "2022-03-09T17:40:33.406695Z",
     "iopub.status.busy": "2022-03-09T17:40:33.406097Z",
     "iopub.status.idle": "2022-03-09T17:40:35.853534Z",
     "shell.execute_reply": "2022-03-09T17:40:35.853027Z",
     "shell.execute_reply.started": "2022-03-09T16:43:30.470758Z"
    },
    "papermill": {
     "duration": 2.490823,
     "end_time": "2022-03-09T17:40:35.853681",
     "exception": false,
     "start_time": "2022-03-09T17:40:33.362858",
     "status": "completed"
    },
    "tags": []
   },
   "outputs": [
    {
     "name": "stdout",
     "output_type": "stream",
     "text": [
      "Model: \"sequential\"\n",
      "_________________________________________________________________\n",
      "Layer (type)                 Output Shape              Param #   \n",
      "=================================================================\n",
      "dense (Dense)                (None, 1024)              7681024   \n",
      "_________________________________________________________________\n",
      "dropout (Dropout)            (None, 1024)              0         \n",
      "_________________________________________________________________\n",
      "dense_1 (Dense)              (None, 256)               262400    \n",
      "_________________________________________________________________\n",
      "dropout_1 (Dropout)          (None, 256)               0         \n",
      "_________________________________________________________________\n",
      "dense_2 (Dense)              (None, 18)                4626      \n",
      "_________________________________________________________________\n",
      "activation (Activation)      (None, 18)                0         \n",
      "=================================================================\n",
      "Total params: 7,948,050\n",
      "Trainable params: 7,948,050\n",
      "Non-trainable params: 0\n",
      "_________________________________________________________________\n"
     ]
    },
    {
     "name": "stderr",
     "output_type": "stream",
     "text": [
      "2022-03-09 17:40:33.476816: I tensorflow/stream_executor/cuda/cuda_gpu_executor.cc:937] successful NUMA node read from SysFS had negative value (-1), but there must be at least one NUMA node, so returning NUMA node zero\n",
      "2022-03-09 17:40:33.569550: I tensorflow/stream_executor/cuda/cuda_gpu_executor.cc:937] successful NUMA node read from SysFS had negative value (-1), but there must be at least one NUMA node, so returning NUMA node zero\n",
      "2022-03-09 17:40:33.570317: I tensorflow/stream_executor/cuda/cuda_gpu_executor.cc:937] successful NUMA node read from SysFS had negative value (-1), but there must be at least one NUMA node, so returning NUMA node zero\n",
      "2022-03-09 17:40:33.571469: I tensorflow/core/platform/cpu_feature_guard.cc:142] This TensorFlow binary is optimized with oneAPI Deep Neural Network Library (oneDNN) to use the following CPU instructions in performance-critical operations:  AVX2 AVX512F FMA\n",
      "To enable them in other operations, rebuild TensorFlow with the appropriate compiler flags.\n",
      "2022-03-09 17:40:33.572361: I tensorflow/stream_executor/cuda/cuda_gpu_executor.cc:937] successful NUMA node read from SysFS had negative value (-1), but there must be at least one NUMA node, so returning NUMA node zero\n",
      "2022-03-09 17:40:33.573031: I tensorflow/stream_executor/cuda/cuda_gpu_executor.cc:937] successful NUMA node read from SysFS had negative value (-1), but there must be at least one NUMA node, so returning NUMA node zero\n",
      "2022-03-09 17:40:33.573670: I tensorflow/stream_executor/cuda/cuda_gpu_executor.cc:937] successful NUMA node read from SysFS had negative value (-1), but there must be at least one NUMA node, so returning NUMA node zero\n",
      "2022-03-09 17:40:35.462652: I tensorflow/stream_executor/cuda/cuda_gpu_executor.cc:937] successful NUMA node read from SysFS had negative value (-1), but there must be at least one NUMA node, so returning NUMA node zero\n",
      "2022-03-09 17:40:35.463517: I tensorflow/stream_executor/cuda/cuda_gpu_executor.cc:937] successful NUMA node read from SysFS had negative value (-1), but there must be at least one NUMA node, so returning NUMA node zero\n",
      "2022-03-09 17:40:35.464200: I tensorflow/stream_executor/cuda/cuda_gpu_executor.cc:937] successful NUMA node read from SysFS had negative value (-1), but there must be at least one NUMA node, so returning NUMA node zero\n",
      "2022-03-09 17:40:35.464834: I tensorflow/core/common_runtime/gpu/gpu_device.cc:1510] Created device /job:localhost/replica:0/task:0/device:GPU:0 with 15403 MB memory:  -> device: 0, name: Tesla P100-PCIE-16GB, pci bus id: 0000:00:04.0, compute capability: 6.0\n"
     ]
    }
   ],
   "source": [
    "# Build the model\n",
    "model = Sequential()\n",
    "model.add(Dense(1024,activation='relu',input_shape=(7500,))) \n",
    "model.add(Dropout(0.5))\n",
    "model.add(Dense(256,activation='relu'))\n",
    "model.add(Dropout(0.5))\n",
    "model.add(Dense(num_classes))\n",
    "model.add(Activation('softmax'))\n",
    "model.compile(loss='categorical_crossentropy',\n",
    "              optimizer='adam',\n",
    "              metrics=['categorical_accuracy','Recall','Precision',f1_metric])\n",
    "model.summary()"
   ]
  },
  {
   "cell_type": "code",
   "execution_count": 25,
   "id": "928ac0e7",
   "metadata": {
    "execution": {
     "iopub.execute_input": "2022-03-09T17:40:35.941546Z",
     "iopub.status.busy": "2022-03-09T17:40:35.940850Z",
     "iopub.status.idle": "2022-03-09T18:07:09.597075Z",
     "shell.execute_reply": "2022-03-09T18:07:09.596610Z",
     "shell.execute_reply.started": "2022-03-09T16:43:33.492307Z"
    },
    "papermill": {
     "duration": 1593.702639,
     "end_time": "2022-03-09T18:07:09.597216",
     "exception": false,
     "start_time": "2022-03-09T17:40:35.894577",
     "status": "completed"
    },
    "tags": []
   },
   "outputs": [
    {
     "name": "stderr",
     "output_type": "stream",
     "text": [
      "2022-03-09 17:40:38.516020: W tensorflow/core/framework/cpu_allocator_impl.cc:80] Allocation of 3844890000 exceeds 10% of free system memory.\n",
      "2022-03-09 17:40:42.576901: W tensorflow/core/framework/cpu_allocator_impl.cc:80] Allocation of 3844890000 exceeds 10% of free system memory.\n",
      "2022-03-09 17:40:45.426451: I tensorflow/compiler/mlir/mlir_graph_optimization_pass.cc:185] None of the MLIR Optimization Passes are enabled (registered 2)\n"
     ]
    },
    {
     "name": "stdout",
     "output_type": "stream",
     "text": [
      "Epoch 1/20\n",
      "16021/16021 [==============================] - 78s 5ms/step - loss: 2.1851 - categorical_accuracy: 0.3183 - recall: 0.1430 - precision: 0.7479 - f1_metric: 0.2206 - val_loss: 1.9644 - val_categorical_accuracy: 0.3865 - val_recall: 0.1934 - val_precision: 0.8057 - val_f1_metric: 0.2926\n",
      "Epoch 2/20\n",
      "16021/16021 [==============================] - 76s 5ms/step - loss: 1.8458 - categorical_accuracy: 0.4293 - recall: 0.2567 - precision: 0.7711 - f1_metric: 0.3668 - val_loss: 1.9273 - val_categorical_accuracy: 0.3990 - val_recall: 0.2239 - val_precision: 0.7814 - val_f1_metric: 0.3294\n",
      "Epoch 3/20\n",
      "16021/16021 [==============================] - 76s 5ms/step - loss: 1.6501 - categorical_accuracy: 0.4894 - recall: 0.3286 - precision: 0.7946 - f1_metric: 0.4472 - val_loss: 1.9332 - val_categorical_accuracy: 0.3973 - val_recall: 0.2433 - val_precision: 0.7448 - val_f1_metric: 0.3491\n",
      "Epoch 4/20\n",
      "16021/16021 [==============================] - 76s 5ms/step - loss: 1.4763 - categorical_accuracy: 0.5443 - recall: 0.3981 - precision: 0.8167 - f1_metric: 0.5188 - val_loss: 1.9832 - val_categorical_accuracy: 0.3950 - val_recall: 0.2654 - val_precision: 0.7050 - val_f1_metric: 0.3693\n",
      "Epoch 5/20\n",
      "16021/16021 [==============================] - 77s 5ms/step - loss: 1.3283 - categorical_accuracy: 0.5919 - recall: 0.4602 - precision: 0.8334 - f1_metric: 0.5783 - val_loss: 2.0506 - val_categorical_accuracy: 0.3974 - val_recall: 0.2748 - val_precision: 0.6706 - val_f1_metric: 0.3745\n",
      "Epoch 6/20\n",
      "16021/16021 [==============================] - 79s 5ms/step - loss: 1.2043 - categorical_accuracy: 0.6286 - recall: 0.5140 - precision: 0.8482 - f1_metric: 0.6273 - val_loss: 2.1338 - val_categorical_accuracy: 0.3957 - val_recall: 0.2900 - val_precision: 0.6454 - val_f1_metric: 0.3862\n",
      "Epoch 7/20\n",
      "16021/16021 [==============================] - 79s 5ms/step - loss: 1.1015 - categorical_accuracy: 0.6621 - recall: 0.5597 - precision: 0.8603 - f1_metric: 0.6665 - val_loss: 2.2175 - val_categorical_accuracy: 0.3938 - val_recall: 0.2956 - val_precision: 0.6276 - val_f1_metric: 0.3890\n",
      "Epoch 8/20\n",
      "16021/16021 [==============================] - 77s 5ms/step - loss: 1.0162 - categorical_accuracy: 0.6890 - recall: 0.5961 - precision: 0.8710 - f1_metric: 0.6970 - val_loss: 2.2974 - val_categorical_accuracy: 0.3900 - val_recall: 0.3014 - val_precision: 0.6056 - val_f1_metric: 0.3897\n",
      "Epoch 9/20\n",
      "16021/16021 [==============================] - 77s 5ms/step - loss: 0.9461 - categorical_accuracy: 0.7112 - recall: 0.6268 - precision: 0.8786 - f1_metric: 0.7221 - val_loss: 2.4064 - val_categorical_accuracy: 0.3884 - val_recall: 0.3069 - val_precision: 0.5848 - val_f1_metric: 0.3919\n",
      "Epoch 10/20\n",
      "16021/16021 [==============================] - 78s 5ms/step - loss: 0.8811 - categorical_accuracy: 0.7305 - recall: 0.6543 - precision: 0.8874 - f1_metric: 0.7445 - val_loss: 2.4940 - val_categorical_accuracy: 0.3847 - val_recall: 0.3077 - val_precision: 0.5735 - val_f1_metric: 0.3902\n",
      "Epoch 11/20\n",
      "16021/16021 [==============================] - 78s 5ms/step - loss: 0.8287 - categorical_accuracy: 0.7491 - recall: 0.6773 - precision: 0.8942 - f1_metric: 0.7626 - val_loss: 2.5786 - val_categorical_accuracy: 0.3813 - val_recall: 0.3090 - val_precision: 0.5651 - val_f1_metric: 0.3900\n",
      "Epoch 12/20\n",
      "16021/16021 [==============================] - 78s 5ms/step - loss: 0.7828 - categorical_accuracy: 0.7639 - recall: 0.6978 - precision: 0.9016 - f1_metric: 0.7793 - val_loss: 2.6989 - val_categorical_accuracy: 0.3804 - val_recall: 0.3107 - val_precision: 0.5487 - val_f1_metric: 0.3876\n",
      "Epoch 13/20\n",
      "16021/16021 [==============================] - 77s 5ms/step - loss: 0.7441 - categorical_accuracy: 0.7761 - recall: 0.7148 - precision: 0.9057 - f1_metric: 0.7920 - val_loss: 2.7849 - val_categorical_accuracy: 0.3833 - val_recall: 0.3134 - val_precision: 0.5466 - val_f1_metric: 0.3887\n",
      "Epoch 14/20\n",
      "16021/16021 [==============================] - 78s 5ms/step - loss: 0.7096 - categorical_accuracy: 0.7876 - recall: 0.7280 - precision: 0.9108 - f1_metric: 0.8027 - val_loss: 2.8704 - val_categorical_accuracy: 0.3848 - val_recall: 0.3173 - val_precision: 0.5435 - val_f1_metric: 0.3918\n",
      "Epoch 15/20\n",
      "16021/16021 [==============================] - 79s 5ms/step - loss: 0.6789 - categorical_accuracy: 0.7963 - recall: 0.7411 - precision: 0.9137 - f1_metric: 0.8120 - val_loss: 2.9822 - val_categorical_accuracy: 0.3822 - val_recall: 0.3178 - val_precision: 0.5320 - val_f1_metric: 0.3901\n",
      "Epoch 16/20\n",
      "16021/16021 [==============================] - 78s 5ms/step - loss: 0.6529 - categorical_accuracy: 0.8053 - recall: 0.7530 - precision: 0.9183 - f1_metric: 0.8215 - val_loss: 3.0506 - val_categorical_accuracy: 0.3835 - val_recall: 0.3196 - val_precision: 0.5300 - val_f1_metric: 0.3906\n",
      "Epoch 17/20\n",
      "16021/16021 [==============================] - 78s 5ms/step - loss: 0.6286 - categorical_accuracy: 0.8127 - recall: 0.7631 - precision: 0.9219 - f1_metric: 0.8293 - val_loss: 3.1436 - val_categorical_accuracy: 0.3786 - val_recall: 0.3187 - val_precision: 0.5250 - val_f1_metric: 0.3888\n",
      "Epoch 18/20\n",
      "16021/16021 [==============================] - 79s 5ms/step - loss: 0.6065 - categorical_accuracy: 0.8190 - recall: 0.7715 - precision: 0.9245 - f1_metric: 0.8356 - val_loss: 3.2349 - val_categorical_accuracy: 0.3800 - val_recall: 0.3187 - val_precision: 0.5201 - val_f1_metric: 0.3878\n",
      "Epoch 19/20\n",
      "16021/16021 [==============================] - 74s 5ms/step - loss: 0.5876 - categorical_accuracy: 0.8265 - recall: 0.7803 - precision: 0.9273 - f1_metric: 0.8422 - val_loss: 3.3422 - val_categorical_accuracy: 0.3786 - val_recall: 0.3223 - val_precision: 0.5151 - val_f1_metric: 0.3897\n",
      "Epoch 20/20\n",
      "16021/16021 [==============================] - 78s 5ms/step - loss: 0.5725 - categorical_accuracy: 0.8311 - recall: 0.7868 - precision: 0.9294 - f1_metric: 0.8472 - val_loss: 3.4339 - val_categorical_accuracy: 0.3755 - val_recall: 0.3220 - val_precision: 0.5094 - val_f1_metric: 0.3874\n"
     ]
    },
    {
     "name": "stderr",
     "output_type": "stream",
     "text": [
      "2022-03-09 18:07:08.685487: W tensorflow/python/util/util.cc:348] Sets are not currently considered sequences, but this may change in the future, so consider avoiding using them.\n"
     ]
    }
   ],
   "source": [
    "#####Import Note should be taken into you coonsideration \n",
    "\n",
    "'''AS appear here there is a significant overfitting althogh I have reduced the number of layers of my model \n",
    "I tried to use different architecture but still overfitting this due to:\n",
    "###(the small amount of data that I used to be trained on it 178*.8=142 thousand row from actual size .8*458=336 thousand)\n",
    "\n",
    "Why I do that using only 1/3 of data size:\n",
    "1- you are thinking that I used 1/3 of my data to overcome imbalanced data problem but\n",
    "2- I had to use 1/3 of the data due to meomry run out problem as:\n",
    "\n",
    "-----------> If I increased the data up to the actual size 336 to be trained on, the session of notebook will be crashed \n",
    "due to meomry ram sapce \n",
    "-----------> if I increased the number of Features more than 7500 as appeard in tf-idf processing, the session of notebook will be crashed \n",
    "due to meomry ram sapce \n",
    "\n",
    "-- I tried to run this model on public colab 12.5 gb ram (not colab pro 25 gb ram) but it was failed due to same problem (ram space)\n",
    "-- I tried to run this model on AWS Notebook instance Segamaker with public resources but it was failed due to same problem (ram space)\n",
    "-- I ran it on Kaggle as you see in this notebook, It was finally trained in with 7500 Features and 142 thousand row \n",
    "maximum limit of data vloume and features number to get my model traind\n",
    "\n",
    "'''\n",
    "\n",
    "\n",
    "batch_size =8\n",
    "epochs = 20\n",
    "history = model.fit(X_train,y_train,\n",
    "                    batch_size=8,\n",
    "                    epochs=epochs,\n",
    "                    verbose=1,\n",
    "                    validation_split=0.1)\n",
    "\n",
    "\n",
    "model.save('my_model.h1')"
   ]
  },
  {
   "cell_type": "code",
   "execution_count": 26,
   "id": "2e8079d7",
   "metadata": {
    "execution": {
     "iopub.execute_input": "2022-03-09T18:07:28.060421Z",
     "iopub.status.busy": "2022-03-09T18:07:28.059750Z",
     "iopub.status.idle": "2022-03-09T18:07:28.063633Z",
     "shell.execute_reply": "2022-03-09T18:07:28.063014Z",
     "shell.execute_reply.started": "2022-03-09T17:19:25.249758Z"
    },
    "papermill": {
     "duration": 9.256597,
     "end_time": "2022-03-09T18:07:28.063767",
     "exception": false,
     "start_time": "2022-03-09T18:07:18.807170",
     "status": "completed"
    },
    "tags": []
   },
   "outputs": [],
   "source": [
    "result_df=pd.DataFrame(history.history)"
   ]
  },
  {
   "cell_type": "code",
   "execution_count": 27,
   "id": "f026b87a",
   "metadata": {
    "execution": {
     "iopub.execute_input": "2022-03-09T18:07:46.669722Z",
     "iopub.status.busy": "2022-03-09T18:07:46.668757Z",
     "iopub.status.idle": "2022-03-09T18:07:46.670555Z",
     "shell.execute_reply": "2022-03-09T18:07:46.670969Z",
     "shell.execute_reply.started": "2022-03-09T17:19:25.258079Z"
    },
    "papermill": {
     "duration": 9.312907,
     "end_time": "2022-03-09T18:07:46.671103",
     "exception": false,
     "start_time": "2022-03-09T18:07:37.358196",
     "status": "completed"
    },
    "tags": []
   },
   "outputs": [],
   "source": [
    "# plt.style.use('seaborn')\n",
    "# plt.style.use(\"seaborn\")\n",
    "# p1=plt.plot(history.history[\"categorical_accuracy\"])\n",
    "# p2=plt.plot(history.history[\"val_categorical_accuracy\"])\n",
    "# plt.xlabel(\"Iteratioons\",fontsize=15)\n",
    "# plt.ylabel(\"Loss\",fontsize=15)\n",
    "# plt.title(\"Model accuracy vs Iterations\",fontsize=30)\n",
    "# plt.legend([\"training_accuracy\",\"val_accuracy\"])"
   ]
  },
  {
   "cell_type": "code",
   "execution_count": 28,
   "id": "116d2cb7",
   "metadata": {
    "execution": {
     "iopub.execute_input": "2022-03-09T18:08:04.631368Z",
     "iopub.status.busy": "2022-03-09T18:08:04.630334Z",
     "iopub.status.idle": "2022-03-09T18:08:10.464924Z",
     "shell.execute_reply": "2022-03-09T18:08:10.464057Z",
     "shell.execute_reply.started": "2022-03-09T17:19:25.279166Z"
    },
    "papermill": {
     "duration": 14.937402,
     "end_time": "2022-03-09T18:08:10.465080",
     "exception": false,
     "start_time": "2022-03-09T18:07:55.527678",
     "status": "completed"
    },
    "tags": []
   },
   "outputs": [
    {
     "name": "stderr",
     "output_type": "stream",
     "text": [
      "2022-03-09 18:08:05.272608: W tensorflow/core/framework/cpu_allocator_impl.cc:80] Allocation of 1068030000 exceeds 10% of free system memory.\n",
      "2022-03-09 18:08:06.385081: W tensorflow/core/framework/cpu_allocator_impl.cc:80] Allocation of 1068030000 exceeds 10% of free system memory.\n"
     ]
    },
    {
     "name": "stdout",
     "output_type": "stream",
     "text": [
      "Loss categorical_accuracy Recall Precision <function f1_metric at 0x7f61f1448f80>\n",
      "[3.3976757526397705, 0.37934327125549316, 0.32338979840278625, 0.5131484866142273, 0.39489418268203735]\n"
     ]
    }
   ],
   "source": [
    "#model = keras.models.load_model('my_model.h1')\n",
    "Evaluation_valus = model.evaluate(X_test,y_test,verbose=0)\n",
    "print(\"Loss\" ,'categorical_accuracy','Recall','Precision',f1_metric)\n",
    "\n",
    "print(Evaluation_valus)"
   ]
  },
  {
   "cell_type": "code",
   "execution_count": 29,
   "id": "e294e2e1",
   "metadata": {
    "execution": {
     "iopub.execute_input": "2022-03-09T18:08:29.031904Z",
     "iopub.status.busy": "2022-03-09T18:08:29.031236Z",
     "iopub.status.idle": "2022-03-09T18:08:29.034341Z",
     "shell.execute_reply": "2022-03-09T18:08:29.034749Z",
     "shell.execute_reply.started": "2022-03-09T17:19:32.425449Z"
    },
    "papermill": {
     "duration": 9.347289,
     "end_time": "2022-03-09T18:08:29.034884",
     "exception": false,
     "start_time": "2022-03-09T18:08:19.687595",
     "status": "completed"
    },
    "tags": []
   },
   "outputs": [
    {
     "data": {
      "text/plain": [
       "['بأغلب الاحيان لما الكلب يوقع بين إيدين الاسد ويصير الكلب ينبح شهامة من الاسد بيتركوا ينبح رغم انو الاسد قادر ومتعطش وجائع ليلتهمه عن هيدا لطلع يتزحلط عالتلج اتكلم',\n",
       " 'بغيبتك عم ندير بالنا عالحبايب',\n",
       " 'خايفه اروح يطلعلي السمك ويشكيلي همه',\n",
       " 'والاصغر منو شويه خلو',\n",
       " 'صممها موقع مشهور لكن مش عارف كيف عمل هذا الخطأ الواضح',\n",
       " 'لوسي شفته بس هلأ بحضره',\n",
       " 'اصعب سؤال ممكن يسألوه لي في رمضان شنو احسن اكله تحبها يا سيدي شن انقولك ممكن الاخضر و اليابس',\n",
       " 'مصدر سعادتك الصلاه و القرآن و عيلتي و صحابي و الاسماعيلي بس مش الفتره دي',\n",
       " 'لكن ما عشان الطبخ',\n",
       " 'ياخ البنات ديل دعايات خلاص ياخ دي قلت ليها انت عويرة قالت تعور عينك قلت ليها حمارة قالت يحمروك في الزيت قلت ليها حيوان قالت تحوم في الصحراء',\n",
       " 'نيمار اليوم طاح اكثر من طيحة الدينار الليبي',\n",
       " 'انته شكلك متخربط اكيد اكيد اكييييد مو انا',\n",
       " 'والربلي أفضل من ريتويت',\n",
       " 'شكرا برشلونة على المتعة الكروية اللي متعتونا بها امس',\n",
       " 'حسبي الله عليهم طب اقل اشي يخلوك تفطر بالبيت وتنزل بعدها الشغل يخربيتهم ما اوسخهم الله يعينك يا حب',\n",
       " 'منشنو ونا اولكم لاتخافون',\n",
       " 'طوني اعلامي فاشل و الدليل على فشله انه بعد انتقادي له عملي بلوك فالبتالي طوني خليفة يعرف وسخته و مستحي منها ببلوك',\n",
       " 'طيارة زي هادي باليز',\n",
       " 'بس بدي اعرف من وين بتجيبهم',\n",
       " 'استاذ ليش البرمامج مايعيدوه الساعه باليل ولابالعشره الصبح',\n",
       " 'هيه والله أيام حلوووه عشناها في اكسبو شنغاهاي ٢٠١٠',\n",
       " 'ترا باقي قدامك ايام جميله لا تعم ي نفسك من بدري',\n",
       " 'لا الخراطين معهم وادي',\n",
       " 'يخليلي اياكي ياعمري ان شاءالله',\n",
       " 'ماما دام واثقه عطيني دليل ترا الكلام وايد والاتراك اللي ع قولتج مسلمين ترا هم السبب بدخول داعش لسوريا ي حبكم حق التجعم شعب يحب الفشله']"
      ]
     },
     "execution_count": 29,
     "metadata": {},
     "output_type": "execute_result"
    }
   ],
   "source": [
    "df[\"texts\"][0:25].astype(\"U\").tolist()"
   ]
  },
  {
   "cell_type": "code",
   "execution_count": 30,
   "id": "8567189e",
   "metadata": {
    "execution": {
     "iopub.execute_input": "2022-03-09T18:08:47.083232Z",
     "iopub.status.busy": "2022-03-09T18:08:47.082596Z",
     "iopub.status.idle": "2022-03-09T18:08:47.085520Z",
     "shell.execute_reply": "2022-03-09T18:08:47.085941Z",
     "shell.execute_reply.started": "2022-03-09T17:19:32.438083Z"
    },
    "papermill": {
     "duration": 9.168767,
     "end_time": "2022-03-09T18:08:47.086081",
     "exception": false,
     "start_time": "2022-03-09T18:08:37.917314",
     "status": "completed"
    },
    "tags": []
   },
   "outputs": [
    {
     "data": {
      "text/plain": [
       "(7500,)"
      ]
     },
     "execution_count": 30,
     "metadata": {},
     "output_type": "execute_result"
    }
   ],
   "source": [
    "X_train[0].shape"
   ]
  },
  {
   "cell_type": "code",
   "execution_count": 31,
   "id": "d53e8e4c",
   "metadata": {
    "execution": {
     "iopub.execute_input": "2022-03-09T18:09:06.159906Z",
     "iopub.status.busy": "2022-03-09T18:09:06.159003Z",
     "iopub.status.idle": "2022-03-09T18:09:06.160949Z",
     "shell.execute_reply": "2022-03-09T18:09:06.161401Z",
     "shell.execute_reply.started": "2022-03-09T17:19:32.453022Z"
    },
    "papermill": {
     "duration": 9.19281,
     "end_time": "2022-03-09T18:09:06.161548",
     "exception": false,
     "start_time": "2022-03-09T18:08:56.968738",
     "status": "completed"
    },
    "tags": []
   },
   "outputs": [],
   "source": [
    "import pickle\n",
    "\n",
    "# saving\n",
    "with open('vectorizer.pickle', 'wb') as handle:\n",
    "    pickle.dump('vectorizer.pickle', handle, protocol=pickle.HIGHEST_PROTOCOL)\n",
    "\n",
    "# # loading\n",
    "# with open('vectorizer.pickle', 'rb') as handle:\n",
    "#     vectorizer = pickle.load(handle)"
   ]
  },
  {
   "cell_type": "code",
   "execution_count": 32,
   "id": "8eaed7d8",
   "metadata": {
    "execution": {
     "iopub.execute_input": "2022-03-09T18:09:24.827805Z",
     "iopub.status.busy": "2022-03-09T18:09:24.826787Z",
     "iopub.status.idle": "2022-03-09T18:09:24.833064Z",
     "shell.execute_reply": "2022-03-09T18:09:24.833564Z",
     "shell.execute_reply.started": "2022-03-09T17:19:32.463813Z"
    },
    "papermill": {
     "duration": 9.538908,
     "end_time": "2022-03-09T18:09:24.833718",
     "exception": false,
     "start_time": "2022-03-09T18:09:15.294810",
     "status": "completed"
    },
    "tags": []
   },
   "outputs": [
    {
     "data": {
      "text/plain": [
       "(25, 7500)"
      ]
     },
     "execution_count": 32,
     "metadata": {},
     "output_type": "execute_result"
    }
   ],
   "source": [
    "features = vectorizer.transform(df[\"texts\"][0:25].astype(\"U\").tolist())\n",
    "features=features.toarray()\n",
    "features.shape"
   ]
  },
  {
   "cell_type": "code",
   "execution_count": 33,
   "id": "7721965d",
   "metadata": {
    "execution": {
     "iopub.execute_input": "2022-03-09T18:09:43.125080Z",
     "iopub.status.busy": "2022-03-09T18:09:43.124103Z",
     "iopub.status.idle": "2022-03-09T18:09:43.264250Z",
     "shell.execute_reply": "2022-03-09T18:09:43.264887Z",
     "shell.execute_reply.started": "2022-03-09T17:39:02.283299Z"
    },
    "papermill": {
     "duration": 9.375432,
     "end_time": "2022-03-09T18:09:43.265085",
     "exception": false,
     "start_time": "2022-03-09T18:09:33.889653",
     "status": "completed"
    },
    "tags": []
   },
   "outputs": [
    {
     "name": "stdout",
     "output_type": "stream",
     "text": [
      "the predicted label is ['LB'] the true labels is ['LB']\n",
      "the predicted label is ['LB'] the true labels is ['LB']\n",
      "the predicted label is ['EG'] the true labels is ['EG']\n",
      "the predicted label is ['SD'] the true labels is ['SD']\n",
      "the predicted label is ['PL'] the true labels is ['DZ']\n",
      "the predicted label is ['JO'] the true labels is ['JO']\n",
      "the predicted label is ['LY'] the true labels is ['LY']\n",
      "the predicted label is ['EG'] the true labels is ['EG']\n",
      "the predicted label is ['OM'] the true labels is ['OM']\n",
      "the predicted label is ['SD'] the true labels is ['SD']\n",
      "the predicted label is ['LY'] the true labels is ['LY']\n",
      "the predicted label is ['KW'] the true labels is ['KW']\n",
      "the predicted label is ['AE'] the true labels is ['SY']\n",
      "the predicted label is ['AE'] the true labels is ['AE']\n",
      "the predicted label is ['PL'] the true labels is ['PL']\n",
      "the predicted label is ['AE'] the true labels is ['AE']\n",
      "the predicted label is ['MA'] the true labels is ['MA']\n",
      "the predicted label is ['PL'] the true labels is ['PL']\n",
      "the predicted label is ['LB'] the true labels is ['LB']\n",
      "the predicted label is ['IQ'] the true labels is ['IQ']\n",
      "the predicted label is ['AE'] the true labels is ['AE']\n",
      "the predicted label is ['SA'] the true labels is ['YE']\n",
      "the predicted label is ['YE'] the true labels is ['YE']\n",
      "the predicted label is ['PL'] the true labels is ['PL']\n",
      "the predicted label is ['AE'] the true labels is ['AE']\n"
     ]
    },
    {
     "name": "stderr",
     "output_type": "stream",
     "text": [
      "/opt/conda/lib/python3.7/site-packages/sklearn/preprocessing/_label.py:154: DataConversionWarning: A column-vector y was passed when a 1d array was expected. Please change the shape of y to (n_samples, ), for example using ravel().\n",
      "  y = column_or_1d(y, warn=True)\n"
     ]
    }
   ],
   "source": [
    "features = vectorizer.transform(df[\"texts\"][0:25].astype(\"U\").tolist())\n",
    "features=features.toarray()\n",
    "\n",
    "cc=model.predict(features)\n",
    "xc = encoder.inverse_transform(np.argmax(cc,axis=1).reshape(-1,1))\n",
    "    \n",
    "l=df[\"dialect\"][0:25].to_list()\n",
    "for i in range(len(l)):\n",
    "    print(\"the predicted label is\", xc.reshape(-1,1)[i], \"the true labels is\" ,np.array(l).reshape(-1,1)[i])\n"
   ]
  },
  {
   "cell_type": "code",
   "execution_count": null,
   "id": "b97a2375",
   "metadata": {
    "papermill": {
     "duration": 9.748934,
     "end_time": "2022-03-09T18:10:02.220162",
     "exception": false,
     "start_time": "2022-03-09T18:09:52.471228",
     "status": "completed"
    },
    "tags": []
   },
   "outputs": [],
   "source": []
  }
 ],
 "metadata": {
  "kernelspec": {
   "display_name": "Python 3",
   "language": "python",
   "name": "python3"
  },
  "language_info": {
   "codemirror_mode": {
    "name": "ipython",
    "version": 3
   },
   "file_extension": ".py",
   "mimetype": "text/x-python",
   "name": "python",
   "nbconvert_exporter": "python",
   "pygments_lexer": "ipython3",
   "version": "3.7.12"
  },
  "papermill": {
   "default_parameters": {},
   "duration": 1821.289929,
   "end_time": "2022-03-09T18:10:14.903462",
   "environment_variables": {},
   "exception": null,
   "input_path": "__notebook__.ipynb",
   "output_path": "__notebook__.ipynb",
   "parameters": {},
   "start_time": "2022-03-09T17:39:53.613533",
   "version": "2.3.3"
  }
 },
 "nbformat": 4,
 "nbformat_minor": 5
}
